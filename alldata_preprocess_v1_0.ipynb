{
 "cells": [
  {
   "cell_type": "code",
   "execution_count": 1,
   "metadata": {
    "collapsed": true
   },
   "outputs": [],
   "source": [
    "import pandas as pd\n",
    "import seaborn as sns\n",
    "% matplotlib inline\n",
    "import matplotlib.pyplot as plt\n",
    "import numpy as np"
   ]
  },
  {
   "cell_type": "code",
   "execution_count": 2,
   "metadata": {
    "scrolled": true
   },
   "outputs": [
    {
     "name": "stdout",
     "output_type": "stream",
     "text": [
      "Wall time: 7.96 s\n"
     ]
    }
   ],
   "source": [
    "#导入总数据\n",
    "% time allrawdata = pd.read_csv('gy_contest_link_traveltime_training_data.txt',nrows=10000000,sep=';') # 车流量数据"
   ]
  },
  {
   "cell_type": "code",
   "execution_count": null,
   "metadata": {
    "collapsed": true
   },
   "outputs": [],
   "source": [
    "#总数据把time_interval切割成time_interval_start和time_interval_end\n",
    "# % time ID_4377906289869500514[['t0','t1']]=ID_4377906289869500514['time_interval'].str.replace('[','').str.replace(')','').str.split(',',expand=True)"
   ]
  },
  {
   "cell_type": "code",
   "execution_count": null,
   "metadata": {
    "collapsed": true
   },
   "outputs": [],
   "source": []
  },
  {
   "cell_type": "markdown",
   "metadata": {},
   "source": [
    "## 对time_interval列进行处理"
   ]
  },
  {
   "cell_type": "code",
   "execution_count": 5,
   "metadata": {},
   "outputs": [
    {
     "name": "stdout",
     "output_type": "stream",
     "text": [
      "Wall time: 4.19 s\n"
     ]
    }
   ],
   "source": [
    "% time allrawdata = allrawdata.sort_values(by='time_interval')"
   ]
  },
  {
   "cell_type": "code",
   "execution_count": 7,
   "metadata": {
    "scrolled": true
   },
   "outputs": [
    {
     "name": "stdout",
     "output_type": "stream",
     "text": [
      "Wall time: 13 s\n"
     ]
    }
   ],
   "source": [
    "% time allrawdata[['t0_tmp','t1_tmp']] = allrawdata['time_interval'].str.split(',',expand=True)"
   ]
  },
  {
   "cell_type": "code",
   "execution_count": 9,
   "metadata": {},
   "outputs": [
    {
     "name": "stdout",
     "output_type": "stream",
     "text": [
      "Wall time: 3.51 s\n"
     ]
    }
   ],
   "source": [
    "% time allrawdata['t0_tmp']=allrawdata['t0_tmp'].str.replace('[','')"
   ]
  },
  {
   "cell_type": "code",
   "execution_count": 10,
   "metadata": {
    "scrolled": true
   },
   "outputs": [
    {
     "name": "stdout",
     "output_type": "stream",
     "text": [
      "Wall time: 3.7 s\n"
     ]
    }
   ],
   "source": [
    "% time allrawdata['t1_tmp']=allrawdata['t1_tmp'].str.replace(')','')"
   ]
  },
  {
   "cell_type": "code",
   "execution_count": 12,
   "metadata": {
    "collapsed": true
   },
   "outputs": [],
   "source": [
    "% time allrawdata['t0_tmp'] = pd.to_datetime(allrawdata['t0_tmp'])"
   ]
  },
  {
   "cell_type": "code",
   "execution_count": 13,
   "metadata": {},
   "outputs": [
    {
     "name": "stdout",
     "output_type": "stream",
     "text": [
      "Wall time: 2.51 s\n"
     ]
    }
   ],
   "source": [
    "% time allrawdata['t1_tmp'] = pd.to_datetime(allrawdata['t1_tmp'])"
   ]
  },
  {
   "cell_type": "code",
   "execution_count": 15,
   "metadata": {
    "collapsed": true
   },
   "outputs": [],
   "source": [
    "allrawdata.rename(columns={'t0_tmp':'time_interval_start', 't1_tmp':'time_interval_end'}, inplace = True)"
   ]
  },
  {
   "cell_type": "markdown",
   "metadata": {},
   "source": [
    "## 检查是否有数据缺失"
   ]
  },
  {
   "cell_type": "code",
   "execution_count": 23,
   "metadata": {
    "scrolled": true
   },
   "outputs": [
    {
     "data": {
      "text/plain": [
       "link_ID                0\n",
       "date                   0\n",
       "travel_time            0\n",
       "time_interval_start    0\n",
       "time_interval_end      0\n",
       "hour                   0\n",
       "dtype: int64"
      ]
     },
     "execution_count": 23,
     "metadata": {},
     "output_type": "execute_result"
    }
   ],
   "source": [
    "allrawdata.isnull().sum()"
   ]
  },
  {
   "cell_type": "markdown",
   "metadata": {},
   "source": [
    "## 删除原time_interval列"
   ]
  },
  {
   "cell_type": "code",
   "execution_count": 20,
   "metadata": {
    "collapsed": true
   },
   "outputs": [],
   "source": [
    "del allrawdata['time_interval']"
   ]
  },
  {
   "cell_type": "code",
   "execution_count": 27,
   "metadata": {
    "scrolled": true
   },
   "outputs": [
    {
     "data": {
      "text/html": [
       "<div>\n",
       "<style>\n",
       "    .dataframe thead tr:only-child th {\n",
       "        text-align: right;\n",
       "    }\n",
       "\n",
       "    .dataframe thead th {\n",
       "        text-align: left;\n",
       "    }\n",
       "\n",
       "    .dataframe tbody tr th {\n",
       "        vertical-align: top;\n",
       "    }\n",
       "</style>\n",
       "<table border=\"1\" class=\"dataframe\">\n",
       "  <thead>\n",
       "    <tr style=\"text-align: right;\">\n",
       "      <th></th>\n",
       "      <th>link_ID</th>\n",
       "      <th>date</th>\n",
       "      <th>travel_time</th>\n",
       "      <th>time_interval_start</th>\n",
       "      <th>time_interval_end</th>\n",
       "    </tr>\n",
       "  </thead>\n",
       "  <tbody>\n",
       "    <tr>\n",
       "      <th>7423266</th>\n",
       "      <td>4377906289425800514</td>\n",
       "      <td>2016-03-01</td>\n",
       "      <td>28.9</td>\n",
       "      <td>2016-03-01</td>\n",
       "      <td>2016-03-01 00:02:00</td>\n",
       "    </tr>\n",
       "    <tr>\n",
       "      <th>7432294</th>\n",
       "      <td>4377906280913600514</td>\n",
       "      <td>2016-03-01</td>\n",
       "      <td>3.0</td>\n",
       "      <td>2016-03-01</td>\n",
       "      <td>2016-03-01 00:02:00</td>\n",
       "    </tr>\n",
       "    <tr>\n",
       "      <th>7407905</th>\n",
       "      <td>4377906288869500514</td>\n",
       "      <td>2016-03-01</td>\n",
       "      <td>11.0</td>\n",
       "      <td>2016-03-01</td>\n",
       "      <td>2016-03-01 00:02:00</td>\n",
       "    </tr>\n",
       "    <tr>\n",
       "      <th>7435404</th>\n",
       "      <td>4377906283525800514</td>\n",
       "      <td>2016-03-01</td>\n",
       "      <td>60.7</td>\n",
       "      <td>2016-03-01</td>\n",
       "      <td>2016-03-01 00:02:00</td>\n",
       "    </tr>\n",
       "    <tr>\n",
       "      <th>7410686</th>\n",
       "      <td>4377906284525800514</td>\n",
       "      <td>2016-03-01</td>\n",
       "      <td>75.8</td>\n",
       "      <td>2016-03-01</td>\n",
       "      <td>2016-03-01 00:02:00</td>\n",
       "    </tr>\n",
       "    <tr>\n",
       "      <th>7404255</th>\n",
       "      <td>4377906281234600514</td>\n",
       "      <td>2016-03-01</td>\n",
       "      <td>2.0</td>\n",
       "      <td>2016-03-01</td>\n",
       "      <td>2016-03-01 00:02:00</td>\n",
       "    </tr>\n",
       "    <tr>\n",
       "      <th>7439676</th>\n",
       "      <td>4377906283422600514</td>\n",
       "      <td>2016-03-01</td>\n",
       "      <td>2.2</td>\n",
       "      <td>2016-03-01</td>\n",
       "      <td>2016-03-01 00:02:00</td>\n",
       "    </tr>\n",
       "    <tr>\n",
       "      <th>7406541</th>\n",
       "      <td>4377906287663800514</td>\n",
       "      <td>2016-03-01</td>\n",
       "      <td>14.3</td>\n",
       "      <td>2016-03-01</td>\n",
       "      <td>2016-03-01 00:02:00</td>\n",
       "    </tr>\n",
       "    <tr>\n",
       "      <th>7429321</th>\n",
       "      <td>3377906282328510514</td>\n",
       "      <td>2016-03-01</td>\n",
       "      <td>20.0</td>\n",
       "      <td>2016-03-01</td>\n",
       "      <td>2016-03-01 00:02:00</td>\n",
       "    </tr>\n",
       "    <tr>\n",
       "      <th>7459286</th>\n",
       "      <td>4377906289244800514</td>\n",
       "      <td>2016-03-01</td>\n",
       "      <td>8.3</td>\n",
       "      <td>2016-03-01</td>\n",
       "      <td>2016-03-01 00:02:00</td>\n",
       "    </tr>\n",
       "  </tbody>\n",
       "</table>\n",
       "</div>"
      ],
      "text/plain": [
       "                     link_ID        date  travel_time time_interval_start  \\\n",
       "7423266  4377906289425800514  2016-03-01         28.9          2016-03-01   \n",
       "7432294  4377906280913600514  2016-03-01          3.0          2016-03-01   \n",
       "7407905  4377906288869500514  2016-03-01         11.0          2016-03-01   \n",
       "7435404  4377906283525800514  2016-03-01         60.7          2016-03-01   \n",
       "7410686  4377906284525800514  2016-03-01         75.8          2016-03-01   \n",
       "7404255  4377906281234600514  2016-03-01          2.0          2016-03-01   \n",
       "7439676  4377906283422600514  2016-03-01          2.2          2016-03-01   \n",
       "7406541  4377906287663800514  2016-03-01         14.3          2016-03-01   \n",
       "7429321  3377906282328510514  2016-03-01         20.0          2016-03-01   \n",
       "7459286  4377906289244800514  2016-03-01          8.3          2016-03-01   \n",
       "\n",
       "          time_interval_end  \n",
       "7423266 2016-03-01 00:02:00  \n",
       "7432294 2016-03-01 00:02:00  \n",
       "7407905 2016-03-01 00:02:00  \n",
       "7435404 2016-03-01 00:02:00  \n",
       "7410686 2016-03-01 00:02:00  \n",
       "7404255 2016-03-01 00:02:00  \n",
       "7439676 2016-03-01 00:02:00  \n",
       "7406541 2016-03-01 00:02:00  \n",
       "7429321 2016-03-01 00:02:00  \n",
       "7459286 2016-03-01 00:02:00  "
      ]
     },
     "execution_count": 27,
     "metadata": {},
     "output_type": "execute_result"
    }
   ],
   "source": [
    "allrawdata.head(10)"
   ]
  },
  {
   "cell_type": "markdown",
   "metadata": {},
   "source": [
    "## 数据存盘"
   ]
  },
  {
   "cell_type": "code",
   "execution_count": 28,
   "metadata": {
    "collapsed": true
   },
   "outputs": [],
   "source": [
    "% time allrawdata.to_csv('allrawdata.csv')"
   ]
  },
  {
   "cell_type": "code",
   "execution_count": 29,
   "metadata": {
    "collapsed": true
   },
   "outputs": [],
   "source": [
    "del allrawdata"
   ]
  }
 ],
 "metadata": {
  "kernelspec": {
   "display_name": "Python 3",
   "language": "python",
   "name": "python3"
  },
  "language_info": {
   "codemirror_mode": {
    "name": "ipython",
    "version": 3
   },
   "file_extension": ".py",
   "mimetype": "text/x-python",
   "name": "python",
   "nbconvert_exporter": "python",
   "pygments_lexer": "ipython3",
   "version": "3.6.1"
  }
 },
 "nbformat": 4,
 "nbformat_minor": 2
}
