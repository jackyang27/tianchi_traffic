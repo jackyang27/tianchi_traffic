{
 "cells": [
  {
   "cell_type": "markdown",
   "metadata": {},
   "source": [
    "## 日志\n",
    "#### 2017.08.05\n",
    "- 接下来,怎么把o dtype 转换成 uint64 dtype? A: 在插入in和out的长宽时发现应该是直接可以自动识别的.\n",
    "* 建立特征, 把每个link的in 和out 对应长宽也插入columns A: 完成\n",
    "* 把in和out对应的travel_time也最好加进来,但是要看好t0起码接近...很可能不行.\n",
    "* 研究一下t0的规律(下图是在别的notebook里研究的全部数据的t0的规律)\n",
    "![](t0_dist_intvl.png)\n",
    "- 下图是每个link_ID包含时间点数据的数量分布![](t0_dist.png) "
   ]
  },
  {
   "cell_type": "markdown",
   "metadata": {
    "collapsed": true
   },
   "source": [
    "* 看一下travel_time和length,width,t0的关系 \n",
    "- 怎么把datetime64数据变成特征? 做成timedelta然后成为标记在年,月,周,日中位置的数据? 待讨论请教.\n",
    "- 网上找的对时间数据的特征化:离散化，离散化成0-1向量(比如周级别为7维向量);加入是是否是特殊日期的向量(一维，0 or 1), 所以我先把时间数据离散成年,月,日,周,时,分. 或者是utc时间(适用聚类). 或者还可以分桶. \n",
    "- 现有的特征可以套进去GBDT试一下, 但是没有把时间数据作为特征的手段的话, 也不能预测啊\n",
    "\n",
    "#### 2017.08.06\n",
    "- 继续把datetime的dir看完"
   ]
  },
  {
   "cell_type": "markdown",
   "metadata": {},
   "source": [
    "## 代码实现"
   ]
  },
  {
   "cell_type": "code",
   "execution_count": 1,
   "metadata": {
    "collapsed": true
   },
   "outputs": [],
   "source": [
    "import pandas as pd\n",
    "import numpy as np"
   ]
  },
  {
   "cell_type": "markdown",
   "metadata": {},
   "source": [
    "## 导入数据"
   ]
  },
  {
   "cell_type": "code",
   "execution_count": 2,
   "metadata": {
    "collapsed": true
   },
   "outputs": [],
   "source": [
    "s = pd.read_csv('gy_contest_link_traveltime_training_data.txt',nrows=1000,sep=';')\n",
    "s.to_csv('gy_contest_link_traveltime_training_sample.csv',sep=';')"
   ]
  },
  {
   "cell_type": "code",
   "execution_count": 3,
   "metadata": {},
   "outputs": [
    {
     "data": {
      "text/html": [
       "<div>\n",
       "<style>\n",
       "    .dataframe thead tr:only-child th {\n",
       "        text-align: right;\n",
       "    }\n",
       "\n",
       "    .dataframe thead th {\n",
       "        text-align: left;\n",
       "    }\n",
       "\n",
       "    .dataframe tbody tr th {\n",
       "        vertical-align: top;\n",
       "    }\n",
       "</style>\n",
       "<table border=\"1\" class=\"dataframe\">\n",
       "  <thead>\n",
       "    <tr style=\"text-align: right;\">\n",
       "      <th></th>\n",
       "      <th>link_ID</th>\n",
       "      <th>date</th>\n",
       "      <th>time_interval</th>\n",
       "      <th>travel_time</th>\n",
       "    </tr>\n",
       "  </thead>\n",
       "  <tbody>\n",
       "    <tr>\n",
       "      <th>0</th>\n",
       "      <td>9377906285566510514</td>\n",
       "      <td>2016-05-21</td>\n",
       "      <td>[2016-05-21 23:20:00,2016-05-21 23:22:00)</td>\n",
       "      <td>17.6</td>\n",
       "    </tr>\n",
       "    <tr>\n",
       "      <th>1</th>\n",
       "      <td>3377906288228510514</td>\n",
       "      <td>2016-05-21</td>\n",
       "      <td>[2016-05-21 18:46:00,2016-05-21 18:48:00)</td>\n",
       "      <td>3.5</td>\n",
       "    </tr>\n",
       "    <tr>\n",
       "      <th>2</th>\n",
       "      <td>3377906284395510514</td>\n",
       "      <td>2016-05-21</td>\n",
       "      <td>[2016-05-21 07:06:00,2016-05-21 07:08:00)</td>\n",
       "      <td>10.0</td>\n",
       "    </tr>\n",
       "    <tr>\n",
       "      <th>3</th>\n",
       "      <td>4377906284959500514</td>\n",
       "      <td>2016-05-21</td>\n",
       "      <td>[2016-05-21 14:34:00,2016-05-21 14:36:00)</td>\n",
       "      <td>3.5</td>\n",
       "    </tr>\n",
       "    <tr>\n",
       "      <th>4</th>\n",
       "      <td>9377906282776510514</td>\n",
       "      <td>2016-05-21</td>\n",
       "      <td>[2016-05-21 05:04:00,2016-05-21 05:06:00)</td>\n",
       "      <td>1.5</td>\n",
       "    </tr>\n",
       "  </tbody>\n",
       "</table>\n",
       "</div>"
      ],
      "text/plain": [
       "               link_ID        date                              time_interval  \\\n",
       "0  9377906285566510514  2016-05-21  [2016-05-21 23:20:00,2016-05-21 23:22:00)   \n",
       "1  3377906288228510514  2016-05-21  [2016-05-21 18:46:00,2016-05-21 18:48:00)   \n",
       "2  3377906284395510514  2016-05-21  [2016-05-21 07:06:00,2016-05-21 07:08:00)   \n",
       "3  4377906284959500514  2016-05-21  [2016-05-21 14:34:00,2016-05-21 14:36:00)   \n",
       "4  9377906282776510514  2016-05-21  [2016-05-21 05:04:00,2016-05-21 05:06:00)   \n",
       "\n",
       "   travel_time  \n",
       "0         17.6  \n",
       "1          3.5  \n",
       "2         10.0  \n",
       "3          3.5  \n",
       "4          1.5  "
      ]
     },
     "execution_count": 3,
     "metadata": {},
     "output_type": "execute_result"
    }
   ],
   "source": [
    "s = pd.read_csv('gy_contest_link_traveltime_training_sample.csv',sep=';',index_col=0)\n",
    "s.head()"
   ]
  },
  {
   "cell_type": "code",
   "execution_count": 4,
   "metadata": {
    "collapsed": true
   },
   "outputs": [],
   "source": [
    "sample = pd.read_csv('gy_contest_link_traveltime_training_data.txt',nrows=1000,sep=';') # 车流量数据"
   ]
  },
  {
   "cell_type": "code",
   "execution_count": 5,
   "metadata": {
    "collapsed": true
   },
   "outputs": [],
   "source": [
    "link_info = pd.read_csv('gy_contest_link_info.txt',sep=';') # 路段id,length,width数据"
   ]
  },
  {
   "cell_type": "code",
   "execution_count": 6,
   "metadata": {
    "collapsed": true
   },
   "outputs": [],
   "source": [
    "link_top = pd.read_csv('gy_contest_link_top.txt',sep=';')# 路段拓扑关系数据"
   ]
  },
  {
   "cell_type": "markdown",
   "metadata": {},
   "source": [
    "## 对sample进行预处理"
   ]
  },
  {
   "cell_type": "code",
   "execution_count": 7,
   "metadata": {
    "collapsed": true
   },
   "outputs": [],
   "source": [
    "sample['id'] = round(sample['link_ID']//(10**6)%(10**4))"
   ]
  },
  {
   "cell_type": "code",
   "execution_count": 8,
   "metadata": {
    "collapsed": true
   },
   "outputs": [],
   "source": [
    "tm_itvl=sample['time_interval'].str.replace('[','').str.replace(')','').str.split(',')\n",
    "sample['t0'] = tm_itvl.apply(lambda x: x[0])\n",
    "sample['t1'] = tm_itvl.apply(lambda x: x[1])"
   ]
  },
  {
   "cell_type": "code",
   "execution_count": 9,
   "metadata": {
    "collapsed": true
   },
   "outputs": [],
   "source": [
    "sample['date'] = pd.to_datetime(sample['date'])\n",
    "sample['t0'] = pd.to_datetime(sample['t0'])\n",
    "sample['t1'] = pd.to_datetime(sample['t1'])\n",
    "sample['delta_t'] = sample['t1']-sample['t0']\n",
    "sample['delta_t']=sample['delta_t'].apply(lambda x:x.value/(6*10**10))"
   ]
  },
  {
   "cell_type": "code",
   "execution_count": 10,
   "metadata": {
    "scrolled": true
   },
   "outputs": [
    {
     "name": "stdout",
     "output_type": "stream",
     "text": [
      "<class 'pandas.core.frame.DataFrame'>\n",
      "RangeIndex: 1000 entries, 0 to 999\n",
      "Data columns (total 8 columns):\n",
      "link_ID          1000 non-null uint64\n",
      "date             1000 non-null datetime64[ns]\n",
      "time_interval    1000 non-null object\n",
      "travel_time      1000 non-null float64\n",
      "id               1000 non-null uint64\n",
      "t0               1000 non-null datetime64[ns]\n",
      "t1               1000 non-null datetime64[ns]\n",
      "delta_t          1000 non-null float64\n",
      "dtypes: datetime64[ns](3), float64(2), object(1), uint64(2)\n",
      "memory usage: 62.6+ KB\n"
     ]
    }
   ],
   "source": [
    "sample.info()"
   ]
  },
  {
   "cell_type": "code",
   "execution_count": 11,
   "metadata": {
    "scrolled": false
   },
   "outputs": [
    {
     "data": {
      "text/html": [
       "<div>\n",
       "<style>\n",
       "    .dataframe thead tr:only-child th {\n",
       "        text-align: right;\n",
       "    }\n",
       "\n",
       "    .dataframe thead th {\n",
       "        text-align: left;\n",
       "    }\n",
       "\n",
       "    .dataframe tbody tr th {\n",
       "        vertical-align: top;\n",
       "    }\n",
       "</style>\n",
       "<table border=\"1\" class=\"dataframe\">\n",
       "  <thead>\n",
       "    <tr style=\"text-align: right;\">\n",
       "      <th></th>\n",
       "      <th>link_ID</th>\n",
       "      <th>date</th>\n",
       "      <th>time_interval</th>\n",
       "      <th>travel_time</th>\n",
       "      <th>id</th>\n",
       "      <th>t0</th>\n",
       "      <th>t1</th>\n",
       "      <th>delta_t</th>\n",
       "    </tr>\n",
       "  </thead>\n",
       "  <tbody>\n",
       "    <tr>\n",
       "      <th>0</th>\n",
       "      <td>9377906285566510514</td>\n",
       "      <td>2016-05-21</td>\n",
       "      <td>[2016-05-21 23:20:00,2016-05-21 23:22:00)</td>\n",
       "      <td>17.6</td>\n",
       "      <td>5566</td>\n",
       "      <td>2016-05-21 23:20:00</td>\n",
       "      <td>2016-05-21 23:22:00</td>\n",
       "      <td>2.0</td>\n",
       "    </tr>\n",
       "    <tr>\n",
       "      <th>1</th>\n",
       "      <td>3377906288228510514</td>\n",
       "      <td>2016-05-21</td>\n",
       "      <td>[2016-05-21 18:46:00,2016-05-21 18:48:00)</td>\n",
       "      <td>3.5</td>\n",
       "      <td>8228</td>\n",
       "      <td>2016-05-21 18:46:00</td>\n",
       "      <td>2016-05-21 18:48:00</td>\n",
       "      <td>2.0</td>\n",
       "    </tr>\n",
       "    <tr>\n",
       "      <th>2</th>\n",
       "      <td>3377906284395510514</td>\n",
       "      <td>2016-05-21</td>\n",
       "      <td>[2016-05-21 07:06:00,2016-05-21 07:08:00)</td>\n",
       "      <td>10.0</td>\n",
       "      <td>4395</td>\n",
       "      <td>2016-05-21 07:06:00</td>\n",
       "      <td>2016-05-21 07:08:00</td>\n",
       "      <td>2.0</td>\n",
       "    </tr>\n",
       "    <tr>\n",
       "      <th>3</th>\n",
       "      <td>4377906284959500514</td>\n",
       "      <td>2016-05-21</td>\n",
       "      <td>[2016-05-21 14:34:00,2016-05-21 14:36:00)</td>\n",
       "      <td>3.5</td>\n",
       "      <td>4959</td>\n",
       "      <td>2016-05-21 14:34:00</td>\n",
       "      <td>2016-05-21 14:36:00</td>\n",
       "      <td>2.0</td>\n",
       "    </tr>\n",
       "    <tr>\n",
       "      <th>4</th>\n",
       "      <td>9377906282776510514</td>\n",
       "      <td>2016-05-21</td>\n",
       "      <td>[2016-05-21 05:04:00,2016-05-21 05:06:00)</td>\n",
       "      <td>1.5</td>\n",
       "      <td>2776</td>\n",
       "      <td>2016-05-21 05:04:00</td>\n",
       "      <td>2016-05-21 05:06:00</td>\n",
       "      <td>2.0</td>\n",
       "    </tr>\n",
       "  </tbody>\n",
       "</table>\n",
       "</div>"
      ],
      "text/plain": [
       "               link_ID       date                              time_interval  \\\n",
       "0  9377906285566510514 2016-05-21  [2016-05-21 23:20:00,2016-05-21 23:22:00)   \n",
       "1  3377906288228510514 2016-05-21  [2016-05-21 18:46:00,2016-05-21 18:48:00)   \n",
       "2  3377906284395510514 2016-05-21  [2016-05-21 07:06:00,2016-05-21 07:08:00)   \n",
       "3  4377906284959500514 2016-05-21  [2016-05-21 14:34:00,2016-05-21 14:36:00)   \n",
       "4  9377906282776510514 2016-05-21  [2016-05-21 05:04:00,2016-05-21 05:06:00)   \n",
       "\n",
       "   travel_time    id                  t0                  t1  delta_t  \n",
       "0         17.6  5566 2016-05-21 23:20:00 2016-05-21 23:22:00      2.0  \n",
       "1          3.5  8228 2016-05-21 18:46:00 2016-05-21 18:48:00      2.0  \n",
       "2         10.0  4395 2016-05-21 07:06:00 2016-05-21 07:08:00      2.0  \n",
       "3          3.5  4959 2016-05-21 14:34:00 2016-05-21 14:36:00      2.0  \n",
       "4          1.5  2776 2016-05-21 05:04:00 2016-05-21 05:06:00      2.0  "
      ]
     },
     "execution_count": 11,
     "metadata": {},
     "output_type": "execute_result"
    }
   ],
   "source": [
    "sample.head()"
   ]
  },
  {
   "cell_type": "markdown",
   "metadata": {},
   "source": [
    "## 对link_top进行预处理"
   ]
  },
  {
   "cell_type": "code",
   "execution_count": 12,
   "metadata": {
    "collapsed": true
   },
   "outputs": [],
   "source": [
    "link_top[['in0','in1','in2','in3']]=link_top['in_links'].str.split('#',expand=True) \n",
    "link_top[['out0','out1','out2','out3']]=link_top['out_links'].str.split('#',expand=True) "
   ]
  },
  {
   "cell_type": "code",
   "execution_count": 13,
   "metadata": {
    "scrolled": true
   },
   "outputs": [
    {
     "name": "stdout",
     "output_type": "stream",
     "text": [
      "<class 'pandas.core.frame.DataFrame'>\n",
      "RangeIndex: 132 entries, 0 to 131\n",
      "Data columns (total 11 columns):\n",
      "link_ID      132 non-null uint64\n",
      "in_links     126 non-null object\n",
      "out_links    125 non-null object\n",
      "in0          126 non-null object\n",
      "in1          28 non-null object\n",
      "in2          9 non-null object\n",
      "in3          4 non-null object\n",
      "out0         125 non-null object\n",
      "out1         29 non-null object\n",
      "out2         9 non-null object\n",
      "out3         4 non-null object\n",
      "dtypes: object(10), uint64(1)\n",
      "memory usage: 11.4+ KB\n"
     ]
    }
   ],
   "source": [
    "link_top.info()"
   ]
  },
  {
   "cell_type": "code",
   "execution_count": 14,
   "metadata": {},
   "outputs": [
    {
     "data": {
      "text/html": [
       "<div>\n",
       "<style>\n",
       "    .dataframe thead tr:only-child th {\n",
       "        text-align: right;\n",
       "    }\n",
       "\n",
       "    .dataframe thead th {\n",
       "        text-align: left;\n",
       "    }\n",
       "\n",
       "    .dataframe tbody tr th {\n",
       "        vertical-align: top;\n",
       "    }\n",
       "</style>\n",
       "<table border=\"1\" class=\"dataframe\">\n",
       "  <thead>\n",
       "    <tr style=\"text-align: right;\">\n",
       "      <th></th>\n",
       "      <th>link_ID</th>\n",
       "      <th>in_links</th>\n",
       "      <th>out_links</th>\n",
       "      <th>in0</th>\n",
       "      <th>in1</th>\n",
       "      <th>in2</th>\n",
       "      <th>in3</th>\n",
       "      <th>out0</th>\n",
       "      <th>out1</th>\n",
       "      <th>out2</th>\n",
       "      <th>out3</th>\n",
       "    </tr>\n",
       "  </thead>\n",
       "  <tbody>\n",
       "    <tr>\n",
       "      <th>0</th>\n",
       "      <td>4377906289869500514</td>\n",
       "      <td>4377906285525800514</td>\n",
       "      <td>4377906281969500514</td>\n",
       "      <td>4377906285525800514</td>\n",
       "      <td>None</td>\n",
       "      <td>None</td>\n",
       "      <td>None</td>\n",
       "      <td>4377906281969500514</td>\n",
       "      <td>None</td>\n",
       "      <td>None</td>\n",
       "      <td>None</td>\n",
       "    </tr>\n",
       "    <tr>\n",
       "      <th>1</th>\n",
       "      <td>4377906284594800514</td>\n",
       "      <td>4377906284514600514</td>\n",
       "      <td>4377906285594800514</td>\n",
       "      <td>4377906284514600514</td>\n",
       "      <td>None</td>\n",
       "      <td>None</td>\n",
       "      <td>None</td>\n",
       "      <td>4377906285594800514</td>\n",
       "      <td>None</td>\n",
       "      <td>None</td>\n",
       "      <td>None</td>\n",
       "    </tr>\n",
       "    <tr>\n",
       "      <th>2</th>\n",
       "      <td>4377906289425800514</td>\n",
       "      <td>NaN</td>\n",
       "      <td>4377906284653600514</td>\n",
       "      <td>NaN</td>\n",
       "      <td>None</td>\n",
       "      <td>None</td>\n",
       "      <td>None</td>\n",
       "      <td>4377906284653600514</td>\n",
       "      <td>None</td>\n",
       "      <td>None</td>\n",
       "      <td>None</td>\n",
       "    </tr>\n",
       "    <tr>\n",
       "      <th>3</th>\n",
       "      <td>4377906284525800514</td>\n",
       "      <td>4377906281234600514</td>\n",
       "      <td>4377906280334600514</td>\n",
       "      <td>4377906281234600514</td>\n",
       "      <td>None</td>\n",
       "      <td>None</td>\n",
       "      <td>None</td>\n",
       "      <td>4377906280334600514</td>\n",
       "      <td>None</td>\n",
       "      <td>None</td>\n",
       "      <td>None</td>\n",
       "    </tr>\n",
       "    <tr>\n",
       "      <th>4</th>\n",
       "      <td>4377906284422600514</td>\n",
       "      <td>3377906289434510514#4377906287959500514</td>\n",
       "      <td>4377906283422600514</td>\n",
       "      <td>3377906289434510514</td>\n",
       "      <td>4377906287959500514</td>\n",
       "      <td>None</td>\n",
       "      <td>None</td>\n",
       "      <td>4377906283422600514</td>\n",
       "      <td>None</td>\n",
       "      <td>None</td>\n",
       "      <td>None</td>\n",
       "    </tr>\n",
       "  </tbody>\n",
       "</table>\n",
       "</div>"
      ],
      "text/plain": [
       "               link_ID                                 in_links  \\\n",
       "0  4377906289869500514                      4377906285525800514   \n",
       "1  4377906284594800514                      4377906284514600514   \n",
       "2  4377906289425800514                                      NaN   \n",
       "3  4377906284525800514                      4377906281234600514   \n",
       "4  4377906284422600514  3377906289434510514#4377906287959500514   \n",
       "\n",
       "             out_links                  in0                  in1   in2   in3  \\\n",
       "0  4377906281969500514  4377906285525800514                 None  None  None   \n",
       "1  4377906285594800514  4377906284514600514                 None  None  None   \n",
       "2  4377906284653600514                  NaN                 None  None  None   \n",
       "3  4377906280334600514  4377906281234600514                 None  None  None   \n",
       "4  4377906283422600514  3377906289434510514  4377906287959500514  None  None   \n",
       "\n",
       "                  out0  out1  out2  out3  \n",
       "0  4377906281969500514  None  None  None  \n",
       "1  4377906285594800514  None  None  None  \n",
       "2  4377906284653600514  None  None  None  \n",
       "3  4377906280334600514  None  None  None  \n",
       "4  4377906283422600514  None  None  None  "
      ]
     },
     "execution_count": 14,
     "metadata": {},
     "output_type": "execute_result"
    }
   ],
   "source": [
    "link_top.head()"
   ]
  },
  {
   "cell_type": "markdown",
   "metadata": {},
   "source": [
    "## 对link_info进行预处理"
   ]
  },
  {
   "cell_type": "code",
   "execution_count": 15,
   "metadata": {},
   "outputs": [
    {
     "name": "stdout",
     "output_type": "stream",
     "text": [
      "<class 'pandas.core.frame.DataFrame'>\n",
      "RangeIndex: 132 entries, 0 to 131\n",
      "Data columns (total 4 columns):\n",
      "link_ID       132 non-null uint64\n",
      "length        132 non-null int64\n",
      "width         132 non-null int64\n",
      "link_class    132 non-null int64\n",
      "dtypes: int64(3), uint64(1)\n",
      "memory usage: 4.2 KB\n"
     ]
    }
   ],
   "source": [
    "link_info.info()"
   ]
  },
  {
   "cell_type": "code",
   "execution_count": 16,
   "metadata": {},
   "outputs": [
    {
     "data": {
      "text/html": [
       "<div>\n",
       "<style>\n",
       "    .dataframe thead tr:only-child th {\n",
       "        text-align: right;\n",
       "    }\n",
       "\n",
       "    .dataframe thead th {\n",
       "        text-align: left;\n",
       "    }\n",
       "\n",
       "    .dataframe tbody tr th {\n",
       "        vertical-align: top;\n",
       "    }\n",
       "</style>\n",
       "<table border=\"1\" class=\"dataframe\">\n",
       "  <thead>\n",
       "    <tr style=\"text-align: right;\">\n",
       "      <th></th>\n",
       "      <th>link_ID</th>\n",
       "      <th>length</th>\n",
       "      <th>width</th>\n",
       "      <th>link_class</th>\n",
       "    </tr>\n",
       "  </thead>\n",
       "  <tbody>\n",
       "    <tr>\n",
       "      <th>0</th>\n",
       "      <td>4377906289869500514</td>\n",
       "      <td>57</td>\n",
       "      <td>3</td>\n",
       "      <td>1</td>\n",
       "    </tr>\n",
       "    <tr>\n",
       "      <th>1</th>\n",
       "      <td>4377906284594800514</td>\n",
       "      <td>247</td>\n",
       "      <td>9</td>\n",
       "      <td>1</td>\n",
       "    </tr>\n",
       "    <tr>\n",
       "      <th>2</th>\n",
       "      <td>4377906289425800514</td>\n",
       "      <td>194</td>\n",
       "      <td>3</td>\n",
       "      <td>1</td>\n",
       "    </tr>\n",
       "    <tr>\n",
       "      <th>3</th>\n",
       "      <td>4377906284525800514</td>\n",
       "      <td>839</td>\n",
       "      <td>3</td>\n",
       "      <td>1</td>\n",
       "    </tr>\n",
       "    <tr>\n",
       "      <th>4</th>\n",
       "      <td>4377906284422600514</td>\n",
       "      <td>55</td>\n",
       "      <td>12</td>\n",
       "      <td>1</td>\n",
       "    </tr>\n",
       "  </tbody>\n",
       "</table>\n",
       "</div>"
      ],
      "text/plain": [
       "               link_ID  length  width  link_class\n",
       "0  4377906289869500514      57      3           1\n",
       "1  4377906284594800514     247      9           1\n",
       "2  4377906289425800514     194      3           1\n",
       "3  4377906284525800514     839      3           1\n",
       "4  4377906284422600514      55     12           1"
      ]
     },
     "execution_count": 16,
     "metadata": {},
     "output_type": "execute_result"
    }
   ],
   "source": [
    "link_info.head()"
   ]
  },
  {
   "cell_type": "markdown",
   "metadata": {},
   "source": [
    "## 对数据进行合并"
   ]
  },
  {
   "cell_type": "code",
   "execution_count": 17,
   "metadata": {
    "collapsed": true
   },
   "outputs": [],
   "source": [
    "alldata= sample[['link_ID','date','t0','t1','delta_t','travel_time']]"
   ]
  },
  {
   "cell_type": "code",
   "execution_count": 18,
   "metadata": {
    "collapsed": true
   },
   "outputs": [],
   "source": [
    "alldata = pd.merge(alldata, link_info[['link_ID','length','width','link_class']], how='left', on='link_ID')"
   ]
  },
  {
   "cell_type": "code",
   "execution_count": 19,
   "metadata": {
    "collapsed": true
   },
   "outputs": [],
   "source": [
    "alldata = pd.merge(alldata, link_top[['link_ID','in0','in1','in2','in3','out0','out1','out2','out3']], how='left',on='link_ID')"
   ]
  },
  {
   "cell_type": "code",
   "execution_count": 20,
   "metadata": {},
   "outputs": [
    {
     "name": "stdout",
     "output_type": "stream",
     "text": [
      "<class 'pandas.core.frame.DataFrame'>\n",
      "Int64Index: 1000 entries, 0 to 999\n",
      "Data columns (total 17 columns):\n",
      "link_ID        1000 non-null uint64\n",
      "date           1000 non-null datetime64[ns]\n",
      "t0             1000 non-null datetime64[ns]\n",
      "t1             1000 non-null datetime64[ns]\n",
      "delta_t        1000 non-null float64\n",
      "travel_time    1000 non-null float64\n",
      "length         1000 non-null int64\n",
      "width          1000 non-null int64\n",
      "link_class     1000 non-null int64\n",
      "in0            962 non-null object\n",
      "in1            238 non-null object\n",
      "in2            79 non-null object\n",
      "in3            33 non-null object\n",
      "out0           929 non-null object\n",
      "out1           222 non-null object\n",
      "out2           66 non-null object\n",
      "out3           32 non-null object\n",
      "dtypes: datetime64[ns](3), float64(2), int64(3), object(8), uint64(1)\n",
      "memory usage: 140.6+ KB\n"
     ]
    }
   ],
   "source": [
    "alldata.info()"
   ]
  },
  {
   "cell_type": "code",
   "execution_count": 21,
   "metadata": {
    "scrolled": false
   },
   "outputs": [
    {
     "data": {
      "text/html": [
       "<div>\n",
       "<style>\n",
       "    .dataframe thead tr:only-child th {\n",
       "        text-align: right;\n",
       "    }\n",
       "\n",
       "    .dataframe thead th {\n",
       "        text-align: left;\n",
       "    }\n",
       "\n",
       "    .dataframe tbody tr th {\n",
       "        vertical-align: top;\n",
       "    }\n",
       "</style>\n",
       "<table border=\"1\" class=\"dataframe\">\n",
       "  <thead>\n",
       "    <tr style=\"text-align: right;\">\n",
       "      <th></th>\n",
       "      <th>link_ID</th>\n",
       "      <th>date</th>\n",
       "      <th>t0</th>\n",
       "      <th>t1</th>\n",
       "      <th>delta_t</th>\n",
       "      <th>travel_time</th>\n",
       "      <th>length</th>\n",
       "      <th>width</th>\n",
       "      <th>link_class</th>\n",
       "      <th>in0</th>\n",
       "      <th>in1</th>\n",
       "      <th>in2</th>\n",
       "      <th>in3</th>\n",
       "      <th>out0</th>\n",
       "      <th>out1</th>\n",
       "      <th>out2</th>\n",
       "      <th>out3</th>\n",
       "    </tr>\n",
       "  </thead>\n",
       "  <tbody>\n",
       "    <tr>\n",
       "      <th>0</th>\n",
       "      <td>9377906285566510514</td>\n",
       "      <td>2016-05-21</td>\n",
       "      <td>2016-05-21 23:20:00</td>\n",
       "      <td>2016-05-21 23:22:00</td>\n",
       "      <td>2.0</td>\n",
       "      <td>17.6</td>\n",
       "      <td>143</td>\n",
       "      <td>9</td>\n",
       "      <td>1</td>\n",
       "      <td>4377906283759500514</td>\n",
       "      <td>9377906286566510514</td>\n",
       "      <td>None</td>\n",
       "      <td>None</td>\n",
       "      <td>4377906282532600514</td>\n",
       "      <td>None</td>\n",
       "      <td>None</td>\n",
       "      <td>None</td>\n",
       "    </tr>\n",
       "    <tr>\n",
       "      <th>1</th>\n",
       "      <td>3377906288228510514</td>\n",
       "      <td>2016-05-21</td>\n",
       "      <td>2016-05-21 18:46:00</td>\n",
       "      <td>2016-05-21 18:48:00</td>\n",
       "      <td>2.0</td>\n",
       "      <td>3.5</td>\n",
       "      <td>26</td>\n",
       "      <td>12</td>\n",
       "      <td>1</td>\n",
       "      <td>3377906289228510514</td>\n",
       "      <td>None</td>\n",
       "      <td>None</td>\n",
       "      <td>None</td>\n",
       "      <td>4377906289663800514</td>\n",
       "      <td>None</td>\n",
       "      <td>None</td>\n",
       "      <td>None</td>\n",
       "    </tr>\n",
       "    <tr>\n",
       "      <th>2</th>\n",
       "      <td>3377906284395510514</td>\n",
       "      <td>2016-05-21</td>\n",
       "      <td>2016-05-21 07:06:00</td>\n",
       "      <td>2016-05-21 07:08:00</td>\n",
       "      <td>2.0</td>\n",
       "      <td>10.0</td>\n",
       "      <td>43</td>\n",
       "      <td>12</td>\n",
       "      <td>1</td>\n",
       "      <td>3377906286918510514</td>\n",
       "      <td>3377906287674510514</td>\n",
       "      <td>4377906287243600514</td>\n",
       "      <td>3377906285934510514</td>\n",
       "      <td>4377906280763800514</td>\n",
       "      <td>None</td>\n",
       "      <td>None</td>\n",
       "      <td>None</td>\n",
       "    </tr>\n",
       "    <tr>\n",
       "      <th>3</th>\n",
       "      <td>4377906284959500514</td>\n",
       "      <td>2016-05-21</td>\n",
       "      <td>2016-05-21 14:34:00</td>\n",
       "      <td>2016-05-21 14:36:00</td>\n",
       "      <td>2.0</td>\n",
       "      <td>3.5</td>\n",
       "      <td>22</td>\n",
       "      <td>9</td>\n",
       "      <td>1</td>\n",
       "      <td>4377906282969500514</td>\n",
       "      <td>4377906285141600514</td>\n",
       "      <td>4377906289141600514</td>\n",
       "      <td>None</td>\n",
       "      <td>4377906288959500514</td>\n",
       "      <td>None</td>\n",
       "      <td>None</td>\n",
       "      <td>None</td>\n",
       "    </tr>\n",
       "    <tr>\n",
       "      <th>4</th>\n",
       "      <td>9377906282776510514</td>\n",
       "      <td>2016-05-21</td>\n",
       "      <td>2016-05-21 05:04:00</td>\n",
       "      <td>2016-05-21 05:06:00</td>\n",
       "      <td>2.0</td>\n",
       "      <td>1.5</td>\n",
       "      <td>9</td>\n",
       "      <td>9</td>\n",
       "      <td>1</td>\n",
       "      <td>9377906283776510514</td>\n",
       "      <td>None</td>\n",
       "      <td>None</td>\n",
       "      <td>None</td>\n",
       "      <td>4377906288194800514</td>\n",
       "      <td>None</td>\n",
       "      <td>None</td>\n",
       "      <td>None</td>\n",
       "    </tr>\n",
       "  </tbody>\n",
       "</table>\n",
       "</div>"
      ],
      "text/plain": [
       "               link_ID       date                  t0                  t1  \\\n",
       "0  9377906285566510514 2016-05-21 2016-05-21 23:20:00 2016-05-21 23:22:00   \n",
       "1  3377906288228510514 2016-05-21 2016-05-21 18:46:00 2016-05-21 18:48:00   \n",
       "2  3377906284395510514 2016-05-21 2016-05-21 07:06:00 2016-05-21 07:08:00   \n",
       "3  4377906284959500514 2016-05-21 2016-05-21 14:34:00 2016-05-21 14:36:00   \n",
       "4  9377906282776510514 2016-05-21 2016-05-21 05:04:00 2016-05-21 05:06:00   \n",
       "\n",
       "   delta_t  travel_time  length  width  link_class                  in0  \\\n",
       "0      2.0         17.6     143      9           1  4377906283759500514   \n",
       "1      2.0          3.5      26     12           1  3377906289228510514   \n",
       "2      2.0         10.0      43     12           1  3377906286918510514   \n",
       "3      2.0          3.5      22      9           1  4377906282969500514   \n",
       "4      2.0          1.5       9      9           1  9377906283776510514   \n",
       "\n",
       "                   in1                  in2                  in3  \\\n",
       "0  9377906286566510514                 None                 None   \n",
       "1                 None                 None                 None   \n",
       "2  3377906287674510514  4377906287243600514  3377906285934510514   \n",
       "3  4377906285141600514  4377906289141600514                 None   \n",
       "4                 None                 None                 None   \n",
       "\n",
       "                  out0  out1  out2  out3  \n",
       "0  4377906282532600514  None  None  None  \n",
       "1  4377906289663800514  None  None  None  \n",
       "2  4377906280763800514  None  None  None  \n",
       "3  4377906288959500514  None  None  None  \n",
       "4  4377906288194800514  None  None  None  "
      ]
     },
     "execution_count": 21,
     "metadata": {},
     "output_type": "execute_result"
    }
   ],
   "source": [
    "alldata.head()"
   ]
  },
  {
   "cell_type": "code",
   "execution_count": 22,
   "metadata": {},
   "outputs": [
    {
     "data": {
      "text/plain": [
       "2016-05-21 07:16:00    6\n",
       "2016-05-21 19:00:00    5\n",
       "2016-05-21 03:58:00    5\n",
       "2016-05-21 16:42:00    5\n",
       "2016-05-21 15:24:00    5\n",
       "2016-05-21 03:56:00    5\n",
       "2016-05-21 23:08:00    5\n",
       "2016-05-21 18:22:00    5\n",
       "2016-05-21 10:48:00    5\n",
       "2016-05-21 14:40:00    4\n",
       "2016-05-21 22:52:00    4\n",
       "2016-05-21 15:38:00    4\n",
       "2016-05-21 09:30:00    4\n",
       "2016-05-21 16:50:00    4\n",
       "2016-05-21 11:58:00    4\n",
       "2016-05-21 19:26:00    4\n",
       "2016-05-21 02:40:00    4\n",
       "2016-05-21 19:30:00    4\n",
       "2016-05-21 00:02:00    4\n",
       "2016-05-21 00:48:00    4\n",
       "2016-05-21 10:06:00    4\n",
       "2016-05-21 15:00:00    4\n",
       "2016-05-21 17:30:00    4\n",
       "2016-05-21 10:16:00    4\n",
       "2016-05-21 10:18:00    4\n",
       "2016-05-21 22:32:00    4\n",
       "2016-05-21 12:46:00    4\n",
       "2016-05-21 17:40:00    4\n",
       "2016-05-21 13:12:00    4\n",
       "2016-05-21 17:46:00    4\n",
       "                      ..\n",
       "2016-05-21 07:04:00    1\n",
       "2016-05-21 13:08:00    1\n",
       "2016-05-21 10:42:00    1\n",
       "2016-05-21 02:10:00    1\n",
       "2016-05-21 00:56:00    1\n",
       "2016-05-21 21:42:00    1\n",
       "2016-05-21 08:16:00    1\n",
       "2016-05-21 16:48:00    1\n",
       "2016-05-21 09:28:00    1\n",
       "2016-05-21 15:36:00    1\n",
       "2016-05-21 19:52:00    1\n",
       "2016-05-21 07:00:00    1\n",
       "2016-05-21 16:46:00    1\n",
       "2016-05-21 04:32:00    1\n",
       "2016-05-21 15:02:00    1\n",
       "2016-05-21 06:58:00    1\n",
       "2016-05-21 16:44:00    1\n",
       "2016-05-21 07:40:00    1\n",
       "2016-05-21 02:04:00    1\n",
       "2016-05-21 19:10:00    1\n",
       "2016-05-21 11:50:00    1\n",
       "2016-05-21 05:50:00    1\n",
       "2016-05-21 19:54:00    1\n",
       "2016-05-21 19:08:00    1\n",
       "2016-05-21 11:48:00    1\n",
       "2016-05-21 05:40:00    1\n",
       "2016-05-21 16:40:00    1\n",
       "2016-05-21 17:28:00    1\n",
       "2016-05-21 07:42:00    1\n",
       "2016-05-21 21:44:00    1\n",
       "Name: t0, Length: 536, dtype: int64"
      ]
     },
     "execution_count": 22,
     "metadata": {},
     "output_type": "execute_result"
    }
   ],
   "source": [
    "alldata['t0'].value_counts()"
   ]
  },
  {
   "cell_type": "markdown",
   "metadata": {
    "collapsed": true
   },
   "source": [
    "## 把每个link的in 和out 对应长宽也插入columns,"
   ]
  },
  {
   "cell_type": "code",
   "execution_count": 23,
   "metadata": {
    "collapsed": true
   },
   "outputs": [],
   "source": [
    "def in_length(x):\n",
    "    try:\n",
    "        return link_info.query(\"link_ID=='%s'\" % x)['length'].iloc[0]\n",
    "    except:\n",
    "        return None\n",
    "alldata['in0_len']=alldata['in0'].apply(in_length)\n",
    "alldata['in1_len']=alldata['in1'].apply(in_length)\n",
    "alldata['in2_len']=alldata['in2'].apply(in_length)\n",
    "alldata['in3_len']=alldata['in3'].apply(in_length)"
   ]
  },
  {
   "cell_type": "code",
   "execution_count": 24,
   "metadata": {
    "collapsed": true
   },
   "outputs": [],
   "source": [
    "alldata['out0_len']=alldata['out0'].apply(in_length)\n",
    "alldata['out1_len']=alldata['out1'].apply(in_length)\n",
    "alldata['out2_len']=alldata['out2'].apply(in_length)\n",
    "alldata['out3_len']=alldata['out3'].apply(in_length)"
   ]
  },
  {
   "cell_type": "code",
   "execution_count": 25,
   "metadata": {
    "collapsed": true
   },
   "outputs": [],
   "source": [
    "def in_width(x):\n",
    "    try:\n",
    "        return link_info.query(\"link_ID=='%s'\" % x)['width'].iloc[0]\n",
    "    except:\n",
    "        return None\n",
    "alldata['in0_wid']=alldata['in0'].apply(in_width)\n",
    "alldata['in1_wid']=alldata['in1'].apply(in_width)\n",
    "alldata['in2_wid']=alldata['in2'].apply(in_width)\n",
    "alldata['in3_wid']=alldata['in3'].apply(in_width)"
   ]
  },
  {
   "cell_type": "code",
   "execution_count": 26,
   "metadata": {
    "collapsed": true
   },
   "outputs": [],
   "source": [
    "alldata['out0_wid']=alldata['out0'].apply(in_width)\n",
    "alldata['out1_wid']=alldata['out1'].apply(in_width)\n",
    "alldata['out2_wid']=alldata['out2'].apply(in_width)\n",
    "alldata['out3_wid']=alldata['out3'].apply(in_width)"
   ]
  },
  {
   "cell_type": "markdown",
   "metadata": {},
   "source": [
    "## 研究一下t0的规律"
   ]
  },
  {
   "cell_type": "code",
   "execution_count": 27,
   "metadata": {
    "collapsed": true
   },
   "outputs": [],
   "source": [
    "import seaborn as sns\n",
    "import matplotlib.pyplot as plt\n",
    "% matplotlib inline"
   ]
  },
  {
   "cell_type": "code",
   "execution_count": 28,
   "metadata": {},
   "outputs": [
    {
     "data": {
      "text/plain": [
       "[<matplotlib.lines.Line2D at 0x20ba81ade10>]"
      ]
     },
     "execution_count": 28,
     "metadata": {},
     "output_type": "execute_result"
    },
    {
     "data": {
      "image/png": "[encoded data removed]",
      "text/plain": [
       "<matplotlib.figure.Figure at 0x20ba811ce80>"
      ]
     },
     "metadata": {},
     "output_type": "display_data"
    }
   ],
   "source": [
    "plt.plot(alldata['t0'])"
   ]
  },
  {
   "cell_type": "markdown",
   "metadata": {},
   "source": [
    "## 每个的link_ID的t0的情况(有多少条)"
   ]
  },
  {
   "cell_type": "code",
   "execution_count": 29,
   "metadata": {},
   "outputs": [
    {
     "data": {
      "text/html": [
       "<div>\n",
       "<style>\n",
       "    .dataframe thead tr:only-child th {\n",
       "        text-align: right;\n",
       "    }\n",
       "\n",
       "    .dataframe thead th {\n",
       "        text-align: left;\n",
       "    }\n",
       "\n",
       "    .dataframe tbody tr th {\n",
       "        vertical-align: top;\n",
       "    }\n",
       "</style>\n",
       "<table border=\"1\" class=\"dataframe\">\n",
       "  <thead>\n",
       "    <tr style=\"text-align: right;\">\n",
       "      <th></th>\n",
       "      <th>t0</th>\n",
       "    </tr>\n",
       "    <tr>\n",
       "      <th>link_ID</th>\n",
       "      <th></th>\n",
       "    </tr>\n",
       "  </thead>\n",
       "  <tbody>\n",
       "    <tr>\n",
       "      <th>3377906280028510514</th>\n",
       "      <td>9</td>\n",
       "    </tr>\n",
       "    <tr>\n",
       "      <th>3377906280395510514</th>\n",
       "      <td>4</td>\n",
       "    </tr>\n",
       "    <tr>\n",
       "      <th>3377906281518510514</th>\n",
       "      <td>15</td>\n",
       "    </tr>\n",
       "    <tr>\n",
       "      <th>3377906281774510514</th>\n",
       "      <td>5</td>\n",
       "    </tr>\n",
       "    <tr>\n",
       "      <th>3377906282328510514</th>\n",
       "      <td>9</td>\n",
       "    </tr>\n",
       "    <tr>\n",
       "      <th>3377906282418510514</th>\n",
       "      <td>11</td>\n",
       "    </tr>\n",
       "    <tr>\n",
       "      <th>3377906283328510514</th>\n",
       "      <td>13</td>\n",
       "    </tr>\n",
       "    <tr>\n",
       "      <th>3377906284028510514</th>\n",
       "      <td>5</td>\n",
       "    </tr>\n",
       "    <tr>\n",
       "      <th>3377906284395510514</th>\n",
       "      <td>11</td>\n",
       "    </tr>\n",
       "    <tr>\n",
       "      <th>3377906285434510514</th>\n",
       "      <td>9</td>\n",
       "    </tr>\n",
       "    <tr>\n",
       "      <th>3377906285934510514</th>\n",
       "      <td>9</td>\n",
       "    </tr>\n",
       "    <tr>\n",
       "      <th>3377906286918510514</th>\n",
       "      <td>5</td>\n",
       "    </tr>\n",
       "    <tr>\n",
       "      <th>3377906287674510514</th>\n",
       "      <td>5</td>\n",
       "    </tr>\n",
       "    <tr>\n",
       "      <th>3377906287886510514</th>\n",
       "      <td>13</td>\n",
       "    </tr>\n",
       "    <tr>\n",
       "      <th>3377906287934510514</th>\n",
       "      <td>4</td>\n",
       "    </tr>\n",
       "    <tr>\n",
       "      <th>3377906288228510514</th>\n",
       "      <td>3</td>\n",
       "    </tr>\n",
       "    <tr>\n",
       "      <th>3377906289044510514</th>\n",
       "      <td>9</td>\n",
       "    </tr>\n",
       "    <tr>\n",
       "      <th>3377906289228510514</th>\n",
       "      <td>6</td>\n",
       "    </tr>\n",
       "    <tr>\n",
       "      <th>3377906289434510514</th>\n",
       "      <td>6</td>\n",
       "    </tr>\n",
       "    <tr>\n",
       "      <th>3377906289674510514</th>\n",
       "      <td>12</td>\n",
       "    </tr>\n",
       "    <tr>\n",
       "      <th>4377906280141600514</th>\n",
       "      <td>11</td>\n",
       "    </tr>\n",
       "    <tr>\n",
       "      <th>4377906280163800514</th>\n",
       "      <td>11</td>\n",
       "    </tr>\n",
       "    <tr>\n",
       "      <th>4377906280234600514</th>\n",
       "      <td>4</td>\n",
       "    </tr>\n",
       "    <tr>\n",
       "      <th>4377906280241600514</th>\n",
       "      <td>6</td>\n",
       "    </tr>\n",
       "    <tr>\n",
       "      <th>4377906280329500514</th>\n",
       "      <td>4</td>\n",
       "    </tr>\n",
       "    <tr>\n",
       "      <th>4377906280334600514</th>\n",
       "      <td>8</td>\n",
       "    </tr>\n",
       "    <tr>\n",
       "      <th>4377906280344800514</th>\n",
       "      <td>10</td>\n",
       "    </tr>\n",
       "    <tr>\n",
       "      <th>4377906280763800514</th>\n",
       "      <td>6</td>\n",
       "    </tr>\n",
       "    <tr>\n",
       "      <th>4377906280784800514</th>\n",
       "      <td>12</td>\n",
       "    </tr>\n",
       "    <tr>\n",
       "      <th>4377906280815800514</th>\n",
       "      <td>7</td>\n",
       "    </tr>\n",
       "    <tr>\n",
       "      <th>...</th>\n",
       "      <td>...</td>\n",
       "    </tr>\n",
       "    <tr>\n",
       "      <th>4377906288234600514</th>\n",
       "      <td>4</td>\n",
       "    </tr>\n",
       "    <tr>\n",
       "      <th>4377906288243600514</th>\n",
       "      <td>5</td>\n",
       "    </tr>\n",
       "    <tr>\n",
       "      <th>4377906288421600514</th>\n",
       "      <td>10</td>\n",
       "    </tr>\n",
       "    <tr>\n",
       "      <th>4377906288425800514</th>\n",
       "      <td>9</td>\n",
       "    </tr>\n",
       "    <tr>\n",
       "      <th>4377906288593600514</th>\n",
       "      <td>2</td>\n",
       "    </tr>\n",
       "    <tr>\n",
       "      <th>4377906288663800514</th>\n",
       "      <td>4</td>\n",
       "    </tr>\n",
       "    <tr>\n",
       "      <th>4377906288738500514</th>\n",
       "      <td>6</td>\n",
       "    </tr>\n",
       "    <tr>\n",
       "      <th>4377906288869500514</th>\n",
       "      <td>9</td>\n",
       "    </tr>\n",
       "    <tr>\n",
       "      <th>4377906288893600514</th>\n",
       "      <td>11</td>\n",
       "    </tr>\n",
       "    <tr>\n",
       "      <th>4377906288959500514</th>\n",
       "      <td>11</td>\n",
       "    </tr>\n",
       "    <tr>\n",
       "      <th>4377906289041600514</th>\n",
       "      <td>13</td>\n",
       "    </tr>\n",
       "    <tr>\n",
       "      <th>4377906289063800514</th>\n",
       "      <td>5</td>\n",
       "    </tr>\n",
       "    <tr>\n",
       "      <th>4377906289141600514</th>\n",
       "      <td>4</td>\n",
       "    </tr>\n",
       "    <tr>\n",
       "      <th>4377906289243600514</th>\n",
       "      <td>8</td>\n",
       "    </tr>\n",
       "    <tr>\n",
       "      <th>4377906289244800514</th>\n",
       "      <td>8</td>\n",
       "    </tr>\n",
       "    <tr>\n",
       "      <th>4377906289425800514</th>\n",
       "      <td>6</td>\n",
       "    </tr>\n",
       "    <tr>\n",
       "      <th>4377906289525800514</th>\n",
       "      <td>8</td>\n",
       "    </tr>\n",
       "    <tr>\n",
       "      <th>4377906289663800514</th>\n",
       "      <td>6</td>\n",
       "    </tr>\n",
       "    <tr>\n",
       "      <th>4377906289813600514</th>\n",
       "      <td>10</td>\n",
       "    </tr>\n",
       "    <tr>\n",
       "      <th>4377906289863800514</th>\n",
       "      <td>11</td>\n",
       "    </tr>\n",
       "    <tr>\n",
       "      <th>4377906289869500514</th>\n",
       "      <td>7</td>\n",
       "    </tr>\n",
       "    <tr>\n",
       "      <th>9377906281555510514</th>\n",
       "      <td>9</td>\n",
       "    </tr>\n",
       "    <tr>\n",
       "      <th>9377906282776510514</th>\n",
       "      <td>10</td>\n",
       "    </tr>\n",
       "    <tr>\n",
       "      <th>9377906283125510514</th>\n",
       "      <td>6</td>\n",
       "    </tr>\n",
       "    <tr>\n",
       "      <th>9377906283776510514</th>\n",
       "      <td>6</td>\n",
       "    </tr>\n",
       "    <tr>\n",
       "      <th>9377906284555510514</th>\n",
       "      <td>5</td>\n",
       "    </tr>\n",
       "    <tr>\n",
       "      <th>9377906285566510514</th>\n",
       "      <td>11</td>\n",
       "    </tr>\n",
       "    <tr>\n",
       "      <th>9377906286566510514</th>\n",
       "      <td>4</td>\n",
       "    </tr>\n",
       "    <tr>\n",
       "      <th>9377906288175510514</th>\n",
       "      <td>12</td>\n",
       "    </tr>\n",
       "    <tr>\n",
       "      <th>9377906289175510514</th>\n",
       "      <td>8</td>\n",
       "    </tr>\n",
       "  </tbody>\n",
       "</table>\n",
       "<p>130 rows × 1 columns</p>\n",
       "</div>"
      ],
      "text/plain": [
       "                     t0\n",
       "link_ID                \n",
       "3377906280028510514   9\n",
       "3377906280395510514   4\n",
       "3377906281518510514  15\n",
       "3377906281774510514   5\n",
       "3377906282328510514   9\n",
       "3377906282418510514  11\n",
       "3377906283328510514  13\n",
       "3377906284028510514   5\n",
       "3377906284395510514  11\n",
       "3377906285434510514   9\n",
       "3377906285934510514   9\n",
       "3377906286918510514   5\n",
       "3377906287674510514   5\n",
       "3377906287886510514  13\n",
       "3377906287934510514   4\n",
       "3377906288228510514   3\n",
       "3377906289044510514   9\n",
       "3377906289228510514   6\n",
       "3377906289434510514   6\n",
       "3377906289674510514  12\n",
       "4377906280141600514  11\n",
       "4377906280163800514  11\n",
       "4377906280234600514   4\n",
       "4377906280241600514   6\n",
       "4377906280329500514   4\n",
       "4377906280334600514   8\n",
       "4377906280344800514  10\n",
       "4377906280763800514   6\n",
       "4377906280784800514  12\n",
       "4377906280815800514   7\n",
       "...                  ..\n",
       "4377906288234600514   4\n",
       "4377906288243600514   5\n",
       "4377906288421600514  10\n",
       "4377906288425800514   9\n",
       "4377906288593600514   2\n",
       "4377906288663800514   4\n",
       "4377906288738500514   6\n",
       "4377906288869500514   9\n",
       "4377906288893600514  11\n",
       "4377906288959500514  11\n",
       "4377906289041600514  13\n",
       "4377906289063800514   5\n",
       "4377906289141600514   4\n",
       "4377906289243600514   8\n",
       "4377906289244800514   8\n",
       "4377906289425800514   6\n",
       "4377906289525800514   8\n",
       "4377906289663800514   6\n",
       "4377906289813600514  10\n",
       "4377906289863800514  11\n",
       "4377906289869500514   7\n",
       "9377906281555510514   9\n",
       "9377906282776510514  10\n",
       "9377906283125510514   6\n",
       "9377906283776510514   6\n",
       "9377906284555510514   5\n",
       "9377906285566510514  11\n",
       "9377906286566510514   4\n",
       "9377906288175510514  12\n",
       "9377906289175510514   8\n",
       "\n",
       "[130 rows x 1 columns]"
      ]
     },
     "execution_count": 29,
     "metadata": {},
     "output_type": "execute_result"
    }
   ],
   "source": [
    "alldata[['link_ID','t0']].groupby('link_ID').count()"
   ]
  },
  {
   "cell_type": "markdown",
   "metadata": {},
   "source": [
    "## 看一下travel_time和length,width,t0的关系"
   ]
  },
  {
   "cell_type": "code",
   "execution_count": 30,
   "metadata": {},
   "outputs": [
    {
     "data": {
      "text/plain": [
       "<seaborn.axisgrid.JointGrid at 0x20ba859b0b8>"
      ]
     },
     "execution_count": 30,
     "metadata": {},
     "output_type": "execute_result"
    },
    {
     "data": {
      "image/png": "[encoded data removed]",
      "text/plain": [
       "<matplotlib.figure.Figure at 0x20ba859bbe0>"
      ]
     },
     "metadata": {},
     "output_type": "display_data"
    }
   ],
   "source": [
    "sns.jointplot(alldata['length'],alldata['travel_time'],)"
   ]
  },
  {
   "cell_type": "code",
   "execution_count": 38,
   "metadata": {},
   "outputs": [
    {
     "data": {
      "text/plain": [
       "<seaborn.axisgrid.JointGrid at 0x20ba9c79cc0>"
      ]
     },
     "execution_count": 38,
     "metadata": {},
     "output_type": "execute_result"
    },
    {
     "data": {
      "image/png": "[encoded data removed]",
      "text/plain": [
       "<matplotlib.figure.Figure at 0x20ba9c79518>"
      ]
     },
     "metadata": {},
     "output_type": "display_data"
    }
   ],
   "source": [
    "sns.jointplot('width','travel_time',data=alldata,xlim=(0,18))"
   ]
  },
  {
   "cell_type": "markdown",
   "metadata": {},
   "source": [
    "## 分割时间数据"
   ]
  },
  {
   "cell_type": "code",
   "execution_count": 32,
   "metadata": {},
   "outputs": [],
   "source": [
    "# 分割出时间维度特征,包括年,月,日,小时,quarter,分钟,年第几天,年第几周,周几, \n",
    "# 以及'is_month_end',\n",
    "#  'is_month_start',\n",
    "#  'is_quarter_end',\n",
    "#  'is_quarter_start',\n",
    "#  'is_year_end',\n",
    "#  'is_year_start',\n",
    "# 甚至能否找到公路的修建时间, 可得到公路服役时间"
   ]
  },
  {
   "cell_type": "code",
   "execution_count": 33,
   "metadata": {
    "collapsed": true
   },
   "outputs": [],
   "source": [
    "# 同时,貌似在训练时,拿哪个时间的段的数据进行训练也是有讲究的.\n",
    "# 为了让内存不爆炸, 也要考虑分条预测?"
   ]
  },
  {
   "cell_type": "code",
   "execution_count": 34,
   "metadata": {
    "collapsed": true
   },
   "outputs": [],
   "source": [
    "alldata['year']=alldata['t0'].apply(lambda x:x.year)\n",
    "alldata['month']=alldata['t0'].apply(lambda x:x.month)\n",
    "alldata['day']=alldata['t0'].apply(lambda x:x.day)\n",
    "alldata['weekday']=alldata['t0'].apply(lambda x:x.weekday())\n",
    "alldata['hour']=alldata['t0'].apply(lambda x:x.hour)\n",
    "alldata['minute']=alldata['t0'].apply(lambda x:x.minute)\n",
    "alldata['dayofyear']=alldata['t0'].apply(lambda x:x.dayofyear)\n",
    "alldata['weekofyear']=alldata['t0'].apply(lambda x:x.weekofyear)"
   ]
  },
  {
   "cell_type": "code",
   "execution_count": 35,
   "metadata": {
    "collapsed": true
   },
   "outputs": [],
   "source": [
    "alldata['is_month_end']=alldata['t0'].apply(lambda x:x.is_month_end)\n",
    "alldata['is_month_start']=alldata['t0'].apply(lambda x:x.is_month_start)\n",
    "alldata['is_quarter_end']=alldata['t0'].apply(lambda x:x.is_quarter_end)\n",
    "alldata['is_quarter_start']=alldata['t0'].apply(lambda x:x.is_quarter_start)\n",
    "alldata['is_year_end']=alldata['t0'].apply(lambda x:x.is_year_end)\n",
    "alldata['is_year_start']=alldata['t0'].apply(lambda x:x.is_year_start)"
   ]
  },
  {
   "cell_type": "code",
   "execution_count": 36,
   "metadata": {},
   "outputs": [
    {
     "name": "stdout",
     "output_type": "stream",
     "text": [
      "<class 'pandas.core.frame.DataFrame'>\n",
      "Int64Index: 1000 entries, 0 to 999\n",
      "Data columns (total 47 columns):\n",
      "link_ID             1000 non-null uint64\n",
      "date                1000 non-null datetime64[ns]\n",
      "t0                  1000 non-null datetime64[ns]\n",
      "t1                  1000 non-null datetime64[ns]\n",
      "delta_t             1000 non-null float64\n",
      "travel_time         1000 non-null float64\n",
      "length              1000 non-null int64\n",
      "width               1000 non-null int64\n",
      "link_class          1000 non-null int64\n",
      "in0                 962 non-null object\n",
      "in1                 238 non-null object\n",
      "in2                 79 non-null object\n",
      "in3                 33 non-null object\n",
      "out0                929 non-null object\n",
      "out1                222 non-null object\n",
      "out2                66 non-null object\n",
      "out3                32 non-null object\n",
      "in0_len             962 non-null float64\n",
      "in1_len             238 non-null float64\n",
      "in2_len             79 non-null float64\n",
      "in3_len             33 non-null float64\n",
      "out0_len            929 non-null float64\n",
      "out1_len            222 non-null float64\n",
      "out2_len            66 non-null float64\n",
      "out3_len            32 non-null float64\n",
      "in0_wid             962 non-null float64\n",
      "in1_wid             238 non-null float64\n",
      "in2_wid             79 non-null float64\n",
      "in3_wid             33 non-null float64\n",
      "out0_wid            929 non-null float64\n",
      "out1_wid            222 non-null float64\n",
      "out2_wid            66 non-null float64\n",
      "out3_wid            32 non-null float64\n",
      "year                1000 non-null int64\n",
      "month               1000 non-null int64\n",
      "day                 1000 non-null int64\n",
      "weekday             1000 non-null int64\n",
      "hour                1000 non-null int64\n",
      "minute              1000 non-null int64\n",
      "dayofyear           1000 non-null int64\n",
      "weekofyear          1000 non-null int64\n",
      "is_month_end        1000 non-null bool\n",
      "is_month_start      1000 non-null bool\n",
      "is_quarter_end      1000 non-null bool\n",
      "is_quarter_start    1000 non-null bool\n",
      "is_year_end         1000 non-null bool\n",
      "is_year_start       1000 non-null bool\n",
      "dtypes: bool(6), datetime64[ns](3), float64(18), int64(11), object(8), uint64(1)\n",
      "memory usage: 374.0+ KB\n"
     ]
    }
   ],
   "source": [
    "alldata.info()"
   ]
  },
  {
   "cell_type": "code",
   "execution_count": 37,
   "metadata": {},
   "outputs": [
    {
     "data": {
      "text/html": [
       "<div>\n",
       "<style>\n",
       "    .dataframe thead tr:only-child th {\n",
       "        text-align: right;\n",
       "    }\n",
       "\n",
       "    .dataframe thead th {\n",
       "        text-align: left;\n",
       "    }\n",
       "\n",
       "    .dataframe tbody tr th {\n",
       "        vertical-align: top;\n",
       "    }\n",
       "</style>\n",
       "<table border=\"1\" class=\"dataframe\">\n",
       "  <thead>\n",
       "    <tr style=\"text-align: right;\">\n",
       "      <th></th>\n",
       "      <th>link_ID</th>\n",
       "      <th>date</th>\n",
       "      <th>t0</th>\n",
       "      <th>t1</th>\n",
       "      <th>delta_t</th>\n",
       "      <th>travel_time</th>\n",
       "      <th>length</th>\n",
       "      <th>width</th>\n",
       "      <th>link_class</th>\n",
       "      <th>in0</th>\n",
       "      <th>...</th>\n",
       "      <th>hour</th>\n",
       "      <th>minute</th>\n",
       "      <th>dayofyear</th>\n",
       "      <th>weekofyear</th>\n",
       "      <th>is_month_end</th>\n",
       "      <th>is_month_start</th>\n",
       "      <th>is_quarter_end</th>\n",
       "      <th>is_quarter_start</th>\n",
       "      <th>is_year_end</th>\n",
       "      <th>is_year_start</th>\n",
       "    </tr>\n",
       "  </thead>\n",
       "  <tbody>\n",
       "    <tr>\n",
       "      <th>0</th>\n",
       "      <td>9377906285566510514</td>\n",
       "      <td>2016-05-21</td>\n",
       "      <td>2016-05-21 23:20:00</td>\n",
       "      <td>2016-05-21 23:22:00</td>\n",
       "      <td>2.0</td>\n",
       "      <td>17.6</td>\n",
       "      <td>143</td>\n",
       "      <td>9</td>\n",
       "      <td>1</td>\n",
       "      <td>4377906283759500514</td>\n",
       "      <td>...</td>\n",
       "      <td>23</td>\n",
       "      <td>20</td>\n",
       "      <td>142</td>\n",
       "      <td>20</td>\n",
       "      <td>False</td>\n",
       "      <td>False</td>\n",
       "      <td>False</td>\n",
       "      <td>False</td>\n",
       "      <td>False</td>\n",
       "      <td>False</td>\n",
       "    </tr>\n",
       "    <tr>\n",
       "      <th>1</th>\n",
       "      <td>3377906288228510514</td>\n",
       "      <td>2016-05-21</td>\n",
       "      <td>2016-05-21 18:46:00</td>\n",
       "      <td>2016-05-21 18:48:00</td>\n",
       "      <td>2.0</td>\n",
       "      <td>3.5</td>\n",
       "      <td>26</td>\n",
       "      <td>12</td>\n",
       "      <td>1</td>\n",
       "      <td>3377906289228510514</td>\n",
       "      <td>...</td>\n",
       "      <td>18</td>\n",
       "      <td>46</td>\n",
       "      <td>142</td>\n",
       "      <td>20</td>\n",
       "      <td>False</td>\n",
       "      <td>False</td>\n",
       "      <td>False</td>\n",
       "      <td>False</td>\n",
       "      <td>False</td>\n",
       "      <td>False</td>\n",
       "    </tr>\n",
       "    <tr>\n",
       "      <th>2</th>\n",
       "      <td>3377906284395510514</td>\n",
       "      <td>2016-05-21</td>\n",
       "      <td>2016-05-21 07:06:00</td>\n",
       "      <td>2016-05-21 07:08:00</td>\n",
       "      <td>2.0</td>\n",
       "      <td>10.0</td>\n",
       "      <td>43</td>\n",
       "      <td>12</td>\n",
       "      <td>1</td>\n",
       "      <td>3377906286918510514</td>\n",
       "      <td>...</td>\n",
       "      <td>7</td>\n",
       "      <td>6</td>\n",
       "      <td>142</td>\n",
       "      <td>20</td>\n",
       "      <td>False</td>\n",
       "      <td>False</td>\n",
       "      <td>False</td>\n",
       "      <td>False</td>\n",
       "      <td>False</td>\n",
       "      <td>False</td>\n",
       "    </tr>\n",
       "    <tr>\n",
       "      <th>3</th>\n",
       "      <td>4377906284959500514</td>\n",
       "      <td>2016-05-21</td>\n",
       "      <td>2016-05-21 14:34:00</td>\n",
       "      <td>2016-05-21 14:36:00</td>\n",
       "      <td>2.0</td>\n",
       "      <td>3.5</td>\n",
       "      <td>22</td>\n",
       "      <td>9</td>\n",
       "      <td>1</td>\n",
       "      <td>4377906282969500514</td>\n",
       "      <td>...</td>\n",
       "      <td>14</td>\n",
       "      <td>34</td>\n",
       "      <td>142</td>\n",
       "      <td>20</td>\n",
       "      <td>False</td>\n",
       "      <td>False</td>\n",
       "      <td>False</td>\n",
       "      <td>False</td>\n",
       "      <td>False</td>\n",
       "      <td>False</td>\n",
       "    </tr>\n",
       "    <tr>\n",
       "      <th>4</th>\n",
       "      <td>9377906282776510514</td>\n",
       "      <td>2016-05-21</td>\n",
       "      <td>2016-05-21 05:04:00</td>\n",
       "      <td>2016-05-21 05:06:00</td>\n",
       "      <td>2.0</td>\n",
       "      <td>1.5</td>\n",
       "      <td>9</td>\n",
       "      <td>9</td>\n",
       "      <td>1</td>\n",
       "      <td>9377906283776510514</td>\n",
       "      <td>...</td>\n",
       "      <td>5</td>\n",
       "      <td>4</td>\n",
       "      <td>142</td>\n",
       "      <td>20</td>\n",
       "      <td>False</td>\n",
       "      <td>False</td>\n",
       "      <td>False</td>\n",
       "      <td>False</td>\n",
       "      <td>False</td>\n",
       "      <td>False</td>\n",
       "    </tr>\n",
       "  </tbody>\n",
       "</table>\n",
       "<p>5 rows × 47 columns</p>\n",
       "</div>"
      ],
      "text/plain": [
       "               link_ID       date                  t0                  t1  \\\n",
       "0  9377906285566510514 2016-05-21 2016-05-21 23:20:00 2016-05-21 23:22:00   \n",
       "1  3377906288228510514 2016-05-21 2016-05-21 18:46:00 2016-05-21 18:48:00   \n",
       "2  3377906284395510514 2016-05-21 2016-05-21 07:06:00 2016-05-21 07:08:00   \n",
       "3  4377906284959500514 2016-05-21 2016-05-21 14:34:00 2016-05-21 14:36:00   \n",
       "4  9377906282776510514 2016-05-21 2016-05-21 05:04:00 2016-05-21 05:06:00   \n",
       "\n",
       "   delta_t  travel_time  length  width  link_class                  in0  \\\n",
       "0      2.0         17.6     143      9           1  4377906283759500514   \n",
       "1      2.0          3.5      26     12           1  3377906289228510514   \n",
       "2      2.0         10.0      43     12           1  3377906286918510514   \n",
       "3      2.0          3.5      22      9           1  4377906282969500514   \n",
       "4      2.0          1.5       9      9           1  9377906283776510514   \n",
       "\n",
       "       ...       hour minute dayofyear weekofyear is_month_end is_month_start  \\\n",
       "0      ...         23     20       142         20        False          False   \n",
       "1      ...         18     46       142         20        False          False   \n",
       "2      ...          7      6       142         20        False          False   \n",
       "3      ...         14     34       142         20        False          False   \n",
       "4      ...          5      4       142         20        False          False   \n",
       "\n",
       "  is_quarter_end  is_quarter_start  is_year_end  is_year_start  \n",
       "0          False             False        False          False  \n",
       "1          False             False        False          False  \n",
       "2          False             False        False          False  \n",
       "3          False             False        False          False  \n",
       "4          False             False        False          False  \n",
       "\n",
       "[5 rows x 47 columns]"
      ]
     },
     "execution_count": 37,
     "metadata": {},
     "output_type": "execute_result"
    }
   ],
   "source": [
    "alldata.head()"
   ]
  }
 ],
 "metadata": {
  "kernelspec": {
   "display_name": "Python 3",
   "language": "python",
   "name": "python3"
  },
  "language_info": {
   "codemirror_mode": {
    "name": "ipython",
    "version": 3
   },
   "file_extension": ".py",
   "mimetype": "text/x-python",
   "name": "python",
   "nbconvert_exporter": "python",
   "pygments_lexer": "ipython3",
   "version": "3.6.1"
  }
 },
 "nbformat": 4,
 "nbformat_minor": 2
}
