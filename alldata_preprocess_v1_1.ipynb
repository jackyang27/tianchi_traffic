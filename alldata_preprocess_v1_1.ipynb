{
 "cells": [
  {
   "cell_type": "code",
   "execution_count": 2,
   "metadata": {
    "collapsed": true
   },
   "outputs": [],
   "source": [
    "import pandas as pd"
   ]
  },
  {
   "cell_type": "markdown",
   "metadata": {},
   "source": [
    "## 读入数据"
   ]
  },
  {
   "cell_type": "code",
   "execution_count": 3,
   "metadata": {},
   "outputs": [
    {
     "name": "stdout",
     "output_type": "stream",
     "text": [
      "Wall time: 7.25 s\n"
     ]
    }
   ],
   "source": [
    "% time allrawdata = pd.read_csv('allrawdata.csv')"
   ]
  },
  {
   "cell_type": "code",
   "execution_count": 6,
   "metadata": {},
   "outputs": [
    {
     "data": {
      "text/html": [
       "<div>\n",
       "<style>\n",
       "    .dataframe thead tr:only-child th {\n",
       "        text-align: right;\n",
       "    }\n",
       "\n",
       "    .dataframe thead th {\n",
       "        text-align: left;\n",
       "    }\n",
       "\n",
       "    .dataframe tbody tr th {\n",
       "        vertical-align: top;\n",
       "    }\n",
       "</style>\n",
       "<table border=\"1\" class=\"dataframe\">\n",
       "  <thead>\n",
       "    <tr style=\"text-align: right;\">\n",
       "      <th></th>\n",
       "      <th>Unnamed: 0</th>\n",
       "      <th>link_ID</th>\n",
       "      <th>date</th>\n",
       "      <th>travel_time</th>\n",
       "      <th>time_interval_start</th>\n",
       "      <th>time_interval_end</th>\n",
       "    </tr>\n",
       "  </thead>\n",
       "  <tbody>\n",
       "    <tr>\n",
       "      <th>0</th>\n",
       "      <td>7423266</td>\n",
       "      <td>4377906289425800514</td>\n",
       "      <td>2016-03-01</td>\n",
       "      <td>28.9</td>\n",
       "      <td>2016-03-01 00:00:00</td>\n",
       "      <td>2016-03-01 00:02:00</td>\n",
       "    </tr>\n",
       "    <tr>\n",
       "      <th>1</th>\n",
       "      <td>7432294</td>\n",
       "      <td>4377906280913600514</td>\n",
       "      <td>2016-03-01</td>\n",
       "      <td>3.0</td>\n",
       "      <td>2016-03-01 00:00:00</td>\n",
       "      <td>2016-03-01 00:02:00</td>\n",
       "    </tr>\n",
       "    <tr>\n",
       "      <th>2</th>\n",
       "      <td>7407905</td>\n",
       "      <td>4377906288869500514</td>\n",
       "      <td>2016-03-01</td>\n",
       "      <td>11.0</td>\n",
       "      <td>2016-03-01 00:00:00</td>\n",
       "      <td>2016-03-01 00:02:00</td>\n",
       "    </tr>\n",
       "    <tr>\n",
       "      <th>3</th>\n",
       "      <td>7435404</td>\n",
       "      <td>4377906283525800514</td>\n",
       "      <td>2016-03-01</td>\n",
       "      <td>60.7</td>\n",
       "      <td>2016-03-01 00:00:00</td>\n",
       "      <td>2016-03-01 00:02:00</td>\n",
       "    </tr>\n",
       "    <tr>\n",
       "      <th>4</th>\n",
       "      <td>7410686</td>\n",
       "      <td>4377906284525800514</td>\n",
       "      <td>2016-03-01</td>\n",
       "      <td>75.8</td>\n",
       "      <td>2016-03-01 00:00:00</td>\n",
       "      <td>2016-03-01 00:02:00</td>\n",
       "    </tr>\n",
       "  </tbody>\n",
       "</table>\n",
       "</div>"
      ],
      "text/plain": [
       "   Unnamed: 0              link_ID        date  travel_time  \\\n",
       "0     7423266  4377906289425800514  2016-03-01         28.9   \n",
       "1     7432294  4377906280913600514  2016-03-01          3.0   \n",
       "2     7407905  4377906288869500514  2016-03-01         11.0   \n",
       "3     7435404  4377906283525800514  2016-03-01         60.7   \n",
       "4     7410686  4377906284525800514  2016-03-01         75.8   \n",
       "\n",
       "   time_interval_start    time_interval_end  \n",
       "0  2016-03-01 00:00:00  2016-03-01 00:02:00  \n",
       "1  2016-03-01 00:00:00  2016-03-01 00:02:00  \n",
       "2  2016-03-01 00:00:00  2016-03-01 00:02:00  \n",
       "3  2016-03-01 00:00:00  2016-03-01 00:02:00  \n",
       "4  2016-03-01 00:00:00  2016-03-01 00:02:00  "
      ]
     },
     "execution_count": 6,
     "metadata": {},
     "output_type": "execute_result"
    }
   ],
   "source": [
    "allrawdata.head()"
   ]
  },
  {
   "cell_type": "markdown",
   "metadata": {},
   "source": [
    "## 插入hour"
   ]
  },
  {
   "cell_type": "code",
   "execution_count": 8,
   "metadata": {
    "scrolled": true
   },
   "outputs": [
    {
     "name": "stdout",
     "output_type": "stream",
     "text": [
      "Wall time: 1.91 s\n"
     ]
    }
   ],
   "source": [
    "%time allrawdata['time_interval_start']=pd.to_datetime(allrawdata['time_interval_start'])"
   ]
  },
  {
   "cell_type": "code",
   "execution_count": 9,
   "metadata": {},
   "outputs": [
    {
     "name": "stdout",
     "output_type": "stream",
     "text": [
      "Wall time: 1.92 s\n"
     ]
    }
   ],
   "source": [
    "%time allrawdata['time_interval_end']=pd.to_datetime(allrawdata['time_interval_end'])"
   ]
  },
  {
   "cell_type": "code",
   "execution_count": 10,
   "metadata": {
    "scrolled": false
   },
   "outputs": [
    {
     "name": "stdout",
     "output_type": "stream",
     "text": [
      "Wall time: 502 ms\n"
     ]
    }
   ],
   "source": [
    "% time allrawdata['hour']=allrawdata['time_interval_start'].dt.hour"
   ]
  },
  {
   "cell_type": "markdown",
   "metadata": {},
   "source": [
    "## 切割7点到8点的数据, 并保存"
   ]
  },
  {
   "cell_type": "code",
   "execution_count": 18,
   "metadata": {
    "scrolled": true
   },
   "outputs": [
    {
     "name": "stdout",
     "output_type": "stream",
     "text": [
      "Wall time: 128 ms\n"
     ]
    }
   ],
   "source": [
    "% time rawdata_78 = allrawdata.query(\"hour==7 or hour==8\")"
   ]
  },
  {
   "cell_type": "code",
   "execution_count": 22,
   "metadata": {},
   "outputs": [
    {
     "name": "stdout",
     "output_type": "stream",
     "text": [
      "Wall time: 7.63 s\n"
     ]
    }
   ],
   "source": [
    "% time rawdata_78.to_csv('rawdata_78.csv')"
   ]
  },
  {
   "cell_type": "markdown",
   "metadata": {},
   "source": [
    "## 查看数据"
   ]
  },
  {
   "cell_type": "code",
   "execution_count": 12,
   "metadata": {},
   "outputs": [
    {
     "data": {
      "text/html": [
       "<div>\n",
       "<style>\n",
       "    .dataframe thead tr:only-child th {\n",
       "        text-align: right;\n",
       "    }\n",
       "\n",
       "    .dataframe thead th {\n",
       "        text-align: left;\n",
       "    }\n",
       "\n",
       "    .dataframe tbody tr th {\n",
       "        vertical-align: top;\n",
       "    }\n",
       "</style>\n",
       "<table border=\"1\" class=\"dataframe\">\n",
       "  <thead>\n",
       "    <tr style=\"text-align: right;\">\n",
       "      <th></th>\n",
       "      <th>Unnamed: 0</th>\n",
       "      <th>link_ID</th>\n",
       "      <th>date</th>\n",
       "      <th>travel_time</th>\n",
       "      <th>time_interval_start</th>\n",
       "      <th>time_interval_end</th>\n",
       "      <th>hour</th>\n",
       "    </tr>\n",
       "  </thead>\n",
       "  <tbody>\n",
       "    <tr>\n",
       "      <th>0</th>\n",
       "      <td>7423266</td>\n",
       "      <td>4377906289425800514</td>\n",
       "      <td>2016-03-01</td>\n",
       "      <td>28.9</td>\n",
       "      <td>2016-03-01</td>\n",
       "      <td>2016-03-01 00:02:00</td>\n",
       "      <td>0</td>\n",
       "    </tr>\n",
       "    <tr>\n",
       "      <th>1</th>\n",
       "      <td>7432294</td>\n",
       "      <td>4377906280913600514</td>\n",
       "      <td>2016-03-01</td>\n",
       "      <td>3.0</td>\n",
       "      <td>2016-03-01</td>\n",
       "      <td>2016-03-01 00:02:00</td>\n",
       "      <td>0</td>\n",
       "    </tr>\n",
       "    <tr>\n",
       "      <th>2</th>\n",
       "      <td>7407905</td>\n",
       "      <td>4377906288869500514</td>\n",
       "      <td>2016-03-01</td>\n",
       "      <td>11.0</td>\n",
       "      <td>2016-03-01</td>\n",
       "      <td>2016-03-01 00:02:00</td>\n",
       "      <td>0</td>\n",
       "    </tr>\n",
       "    <tr>\n",
       "      <th>3</th>\n",
       "      <td>7435404</td>\n",
       "      <td>4377906283525800514</td>\n",
       "      <td>2016-03-01</td>\n",
       "      <td>60.7</td>\n",
       "      <td>2016-03-01</td>\n",
       "      <td>2016-03-01 00:02:00</td>\n",
       "      <td>0</td>\n",
       "    </tr>\n",
       "    <tr>\n",
       "      <th>4</th>\n",
       "      <td>7410686</td>\n",
       "      <td>4377906284525800514</td>\n",
       "      <td>2016-03-01</td>\n",
       "      <td>75.8</td>\n",
       "      <td>2016-03-01</td>\n",
       "      <td>2016-03-01 00:02:00</td>\n",
       "      <td>0</td>\n",
       "    </tr>\n",
       "  </tbody>\n",
       "</table>\n",
       "</div>"
      ],
      "text/plain": [
       "   Unnamed: 0              link_ID        date  travel_time  \\\n",
       "0     7423266  4377906289425800514  2016-03-01         28.9   \n",
       "1     7432294  4377906280913600514  2016-03-01          3.0   \n",
       "2     7407905  4377906288869500514  2016-03-01         11.0   \n",
       "3     7435404  4377906283525800514  2016-03-01         60.7   \n",
       "4     7410686  4377906284525800514  2016-03-01         75.8   \n",
       "\n",
       "  time_interval_start   time_interval_end  hour  \n",
       "0          2016-03-01 2016-03-01 00:02:00     0  \n",
       "1          2016-03-01 2016-03-01 00:02:00     0  \n",
       "2          2016-03-01 2016-03-01 00:02:00     0  \n",
       "3          2016-03-01 2016-03-01 00:02:00     0  \n",
       "4          2016-03-01 2016-03-01 00:02:00     0  "
      ]
     },
     "execution_count": 12,
     "metadata": {},
     "output_type": "execute_result"
    }
   ],
   "source": [
    "allrawdata.head()"
   ]
  },
  {
   "cell_type": "code",
   "execution_count": 20,
   "metadata": {},
   "outputs": [
    {
     "data": {
      "text/html": [
       "<div>\n",
       "<style>\n",
       "    .dataframe thead tr:only-child th {\n",
       "        text-align: right;\n",
       "    }\n",
       "\n",
       "    .dataframe thead th {\n",
       "        text-align: left;\n",
       "    }\n",
       "\n",
       "    .dataframe tbody tr th {\n",
       "        vertical-align: top;\n",
       "    }\n",
       "</style>\n",
       "<table border=\"1\" class=\"dataframe\">\n",
       "  <thead>\n",
       "    <tr style=\"text-align: right;\">\n",
       "      <th></th>\n",
       "      <th>Unnamed: 0</th>\n",
       "      <th>link_ID</th>\n",
       "      <th>date</th>\n",
       "      <th>travel_time</th>\n",
       "      <th>time_interval_start</th>\n",
       "      <th>time_interval_end</th>\n",
       "      <th>hour</th>\n",
       "    </tr>\n",
       "  </thead>\n",
       "  <tbody>\n",
       "    <tr>\n",
       "      <th>15394</th>\n",
       "      <td>7430427</td>\n",
       "      <td>4377906288593600514</td>\n",
       "      <td>2016-03-01</td>\n",
       "      <td>6.4</td>\n",
       "      <td>2016-03-01 07:00:00</td>\n",
       "      <td>2016-03-01 07:02:00</td>\n",
       "      <td>7</td>\n",
       "    </tr>\n",
       "    <tr>\n",
       "      <th>15395</th>\n",
       "      <td>7403320</td>\n",
       "      <td>4377906288893600514</td>\n",
       "      <td>2016-03-01</td>\n",
       "      <td>5.8</td>\n",
       "      <td>2016-03-01 07:00:00</td>\n",
       "      <td>2016-03-01 07:02:00</td>\n",
       "      <td>7</td>\n",
       "    </tr>\n",
       "    <tr>\n",
       "      <th>15396</th>\n",
       "      <td>7424567</td>\n",
       "      <td>4377906286169500514</td>\n",
       "      <td>2016-03-01</td>\n",
       "      <td>10.2</td>\n",
       "      <td>2016-03-01 07:00:00</td>\n",
       "      <td>2016-03-01 07:02:00</td>\n",
       "      <td>7</td>\n",
       "    </tr>\n",
       "    <tr>\n",
       "      <th>15397</th>\n",
       "      <td>7391730</td>\n",
       "      <td>4377906284769500514</td>\n",
       "      <td>2016-03-01</td>\n",
       "      <td>0.8</td>\n",
       "      <td>2016-03-01 07:00:00</td>\n",
       "      <td>2016-03-01 07:02:00</td>\n",
       "      <td>7</td>\n",
       "    </tr>\n",
       "    <tr>\n",
       "      <th>15398</th>\n",
       "      <td>7415208</td>\n",
       "      <td>4377906288738500514</td>\n",
       "      <td>2016-03-01</td>\n",
       "      <td>4.8</td>\n",
       "      <td>2016-03-01 07:00:00</td>\n",
       "      <td>2016-03-01 07:02:00</td>\n",
       "      <td>7</td>\n",
       "    </tr>\n",
       "  </tbody>\n",
       "</table>\n",
       "</div>"
      ],
      "text/plain": [
       "       Unnamed: 0              link_ID        date  travel_time  \\\n",
       "15394     7430427  4377906288593600514  2016-03-01          6.4   \n",
       "15395     7403320  4377906288893600514  2016-03-01          5.8   \n",
       "15396     7424567  4377906286169500514  2016-03-01         10.2   \n",
       "15397     7391730  4377906284769500514  2016-03-01          0.8   \n",
       "15398     7415208  4377906288738500514  2016-03-01          4.8   \n",
       "\n",
       "      time_interval_start   time_interval_end  hour  \n",
       "15394 2016-03-01 07:00:00 2016-03-01 07:02:00     7  \n",
       "15395 2016-03-01 07:00:00 2016-03-01 07:02:00     7  \n",
       "15396 2016-03-01 07:00:00 2016-03-01 07:02:00     7  \n",
       "15397 2016-03-01 07:00:00 2016-03-01 07:02:00     7  \n",
       "15398 2016-03-01 07:00:00 2016-03-01 07:02:00     7  "
      ]
     },
     "execution_count": 20,
     "metadata": {},
     "output_type": "execute_result"
    }
   ],
   "source": [
    "rawdata_78.head()"
   ]
  },
  {
   "cell_type": "code",
   "execution_count": null,
   "metadata": {
    "collapsed": true
   },
   "outputs": [],
   "source": []
  }
 ],
 "metadata": {
  "kernelspec": {
   "display_name": "Python 3",
   "language": "python",
   "name": "python3"
  },
  "language_info": {
   "codemirror_mode": {
    "name": "ipython",
    "version": 3
   },
   "file_extension": ".py",
   "mimetype": "text/x-python",
   "name": "python",
   "nbconvert_exporter": "python",
   "pygments_lexer": "ipython3",
   "version": "3.6.1"
  }
 },
 "nbformat": 4,
 "nbformat_minor": 2
}
